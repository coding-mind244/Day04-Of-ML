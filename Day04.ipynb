{
 "cells": [
  {
   "cell_type": "markdown",
   "id": "44c176ed-9d0c-4175-9db4-a9e62c9ce429",
   "metadata": {},
   "source": [
    "# List Vs Numpy Arrays"
   ]
  },
  {
   "cell_type": "markdown",
   "id": "dd41c4fb-5e17-4bb3-b6f8-413a82932dd0",
   "metadata": {},
   "source": [
    "### Numpy Arrays is more faster, convenient, and less memory occoupised as compare to list"
   ]
  },
  {
   "cell_type": "code",
   "execution_count": 1,
   "id": "db3e22ec-52a5-4a86-ae41-61f352743f99",
   "metadata": {},
   "outputs": [],
   "source": [
    "import numpy as np\n",
    "import sys"
   ]
  },
  {
   "cell_type": "markdown",
   "id": "44ceb0c6-e3e6-47c1-9a05-c49efc64a6a2",
   "metadata": {},
   "source": [
    "### To calculate the memory size you have to import sys library"
   ]
  },
  {
   "cell_type": "code",
   "execution_count": 2,
   "id": "3207e10e-ee3b-4ddf-827b-100258e9139c",
   "metadata": {},
   "outputs": [],
   "source": [
    "list1 = range(10)\n",
    "arr1 = np.arange(10)"
   ]
  },
  {
   "cell_type": "code",
   "execution_count": 3,
   "id": "ba8f0507-2dea-4192-8674-100b11ffe68d",
   "metadata": {},
   "outputs": [
    {
     "name": "stdout",
     "output_type": "stream",
     "text": [
      "280\n"
     ]
    }
   ],
   "source": [
    "print(sys.getsizeof(87)*len(list1))"
   ]
  },
  {
   "cell_type": "code",
   "execution_count": 5,
   "id": "66cf89cf-71e6-4a6d-aa29-6538d3ddebd0",
   "metadata": {},
   "outputs": [
    {
     "name": "stdout",
     "output_type": "stream",
     "text": [
      "80\n"
     ]
    }
   ],
   "source": [
    "print(arr1.itemsize*arr1.size)"
   ]
  },
  {
   "cell_type": "markdown",
   "id": "f2ff2529-d8a6-4d85-a434-aecf7234ad90",
   "metadata": {},
   "source": [
    "#### In line number 13 i call a function with name of getsizeof() and pass 87 as a perameter because the range of list1 is 100 and then multiply with the length of the list1 so i get the size of one element inside the list. Similarly in line number 15 to get the size of one item in an array i multiply itemsize with arr1size.So as result it is clear that numpy arrays occoupied less space as compared to list even both have the same range."
   ]
  },
  {
   "cell_type": "code",
   "execution_count": 6,
   "id": "3ca053bb-b2ae-4d72-96dd-aef6853c9b70",
   "metadata": {},
   "outputs": [],
   "source": [
    "import time"
   ]
  },
  {
   "cell_type": "code",
   "execution_count": 12,
   "id": "04375af6-0993-4806-af7f-4c75af910c96",
   "metadata": {},
   "outputs": [
    {
     "name": "stdout",
     "output_type": "stream",
     "text": [
      "0.6461920738220215\n"
     ]
    }
   ],
   "source": [
    "list2 = range(10000000)\n",
    "list3 = range(10000000, 20000000)\n",
    "start_time = time.time()\n",
    "c = [(list2,list3) for list2,list3 in zip(list2,list3)]\n",
    "print(time.time() - start_time)"
   ]
  },
  {
   "cell_type": "code",
   "execution_count": 13,
   "id": "a9e85261-be36-40de-9063-94d667f68234",
   "metadata": {},
   "outputs": [
    {
     "name": "stdout",
     "output_type": "stream",
     "text": [
      "0.35205602645874023\n"
     ]
    }
   ],
   "source": [
    "arr2 = np.arange(10000000)\n",
    "arr3 = np.arange(10000000, 20000000)\n",
    "start_time2 = time.time()\n",
    "c = arr2 + arr3\n",
    "print(time.time() - start_time2)"
   ]
  },
  {
   "cell_type": "markdown",
   "id": "9318a2c4-ced2-4275-8316-b74f43795c0e",
   "metadata": {},
   "source": [
    "### As you can see that runing time of array is 50% faster than list & in line 12 don't confuse about this \"[(list2,list3) for list2,list3 in zip(list2,list3)]\" is just adding the elements of list2 and list3 and storing in another list and time.time() store the current  time."
   ]
  },
  {
   "cell_type": "code",
   "execution_count": null,
   "id": "1e4fa808-1609-44ce-b636-89c5e2bf5fbf",
   "metadata": {},
   "outputs": [],
   "source": []
  }
 ],
 "metadata": {
  "kernelspec": {
   "display_name": "Python 3 (ipykernel)",
   "language": "python",
   "name": "python3"
  },
  "language_info": {
   "codemirror_mode": {
    "name": "ipython",
    "version": 3
   },
   "file_extension": ".py",
   "mimetype": "text/x-python",
   "name": "python",
   "nbconvert_exporter": "python",
   "pygments_lexer": "ipython3",
   "version": "3.12.7"
  }
 },
 "nbformat": 4,
 "nbformat_minor": 5
}
